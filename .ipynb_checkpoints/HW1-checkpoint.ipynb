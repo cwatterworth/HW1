{
 "cells": [
  {
   "cell_type": "markdown",
   "id": "c3f51b1b",
   "metadata": {},
   "source": [
    "## Task 3 - EDA\n",
    "using sweet viz"
   ]
  },
  {
   "cell_type": "code",
   "execution_count": 188,
   "id": "a824f5f2",
   "metadata": {},
   "outputs": [],
   "source": [
    "import pandas as pd\n",
    "import numpy as np"
   ]
  },
  {
   "cell_type": "code",
   "execution_count": 189,
   "id": "1d0c99b6",
   "metadata": {},
   "outputs": [
    {
     "name": "stdout",
     "output_type": "stream",
     "text": [
      "       bedrooms  bathrooms  sqft_living  sqft_lot  floors  waterfront  view  \\\n",
      "0             3       1.00         1180      5650     1.0           0     0   \n",
      "1             3       2.25         2570      7242     2.0           0     0   \n",
      "2             2       1.00          770     10000     1.0           0     0   \n",
      "3             4       3.00         1960      5000     1.0           0     0   \n",
      "4             3       2.00         1680      8080     1.0           0     0   \n",
      "...         ...        ...          ...       ...     ...         ...   ...   \n",
      "21608         3       2.50         1530      1131     3.0           0     0   \n",
      "21609         4       2.50         2310      5813     2.0           0     0   \n",
      "21610         2       0.75         1020      1350     2.0           0     0   \n",
      "21611         3       2.50         1600      2388     2.0           0     0   \n",
      "21612         2       0.75         1020      1076     2.0           0     0   \n",
      "\n",
      "       condition  grade  sqft_above  sqft_basement  yr_built  yr_renovated  \\\n",
      "0              3      7        1180              0      1955             0   \n",
      "1              3      7        2170            400      1951          1991   \n",
      "2              3      6         770              0      1933             0   \n",
      "3              5      7        1050            910      1965             0   \n",
      "4              3      8        1680              0      1987             0   \n",
      "...          ...    ...         ...            ...       ...           ...   \n",
      "21608          3      8        1530              0      2009             0   \n",
      "21609          3      8        2310              0      2014             0   \n",
      "21610          3      7        1020              0      2009             0   \n",
      "21611          3      8        1600              0      2004             0   \n",
      "21612          3      7        1020              0      2008             0   \n",
      "\n",
      "       zipcode      lat     long  sqft_living15  sqft_lot15  price_gt_1M  \n",
      "0        98178  47.5112 -122.257           1340        5650            0  \n",
      "1        98125  47.7210 -122.319           1690        7639            0  \n",
      "2        98028  47.7379 -122.233           2720        8062            0  \n",
      "3        98136  47.5208 -122.393           1360        5000            0  \n",
      "4        98074  47.6168 -122.045           1800        7503            0  \n",
      "...        ...      ...      ...            ...         ...          ...  \n",
      "21608    98103  47.6993 -122.346           1530        1509            0  \n",
      "21609    98146  47.5107 -122.362           1830        7200            0  \n",
      "21610    98144  47.5944 -122.299           1020        2007            0  \n",
      "21611    98027  47.5345 -122.069           1410        1287            0  \n",
      "21612    98144  47.5941 -122.299           1020        1357            0  \n",
      "\n",
      "[21613 rows x 19 columns]\n"
     ]
    },
    {
     "data": {
      "text/plain": [
       "bedrooms           int64\n",
       "bathrooms        float64\n",
       "sqft_living        int64\n",
       "sqft_lot           int64\n",
       "floors           float64\n",
       "waterfront         int64\n",
       "view               int64\n",
       "condition          int64\n",
       "grade              int64\n",
       "sqft_above         int64\n",
       "sqft_basement      int64\n",
       "yr_built           int64\n",
       "yr_renovated       int64\n",
       "zipcode            int64\n",
       "lat              float64\n",
       "long             float64\n",
       "sqft_living15      int64\n",
       "sqft_lot15         int64\n",
       "price_gt_1M        int64\n",
       "dtype: object"
      ]
     },
     "execution_count": 189,
     "metadata": {},
     "output_type": "execute_result"
    }
   ],
   "source": [
    "#read in data file\n",
    "housing_df = pd.read_csv ('data/kc_house_data_classification.csv')\n",
    "print(housing_df)\n",
    "\n",
    "housing_df.dtypes"
   ]
  },
  {
   "cell_type": "markdown",
   "id": "16c30e58",
   "metadata": {},
   "source": [
    "## Task 4 - Categorize feature types\n",
    "NOTE: Waterfront: ‘1’ if the property has a waterfront, ‘0’ if not."
   ]
  },
  {
   "cell_type": "code",
   "execution_count": 190,
   "id": "c7023312",
   "metadata": {},
   "outputs": [
    {
     "data": {
      "text/plain": [
       "bedrooms         object\n",
       "bathrooms        object\n",
       "sqft_living       int64\n",
       "sqft_lot          int64\n",
       "floors           object\n",
       "waterfront       object\n",
       "view             object\n",
       "condition        object\n",
       "grade            object\n",
       "sqft_above        int64\n",
       "sqft_basement     int64\n",
       "yr_built          int64\n",
       "yr_renovated      int64\n",
       "zipcode           int64\n",
       "lat               int64\n",
       "long              int64\n",
       "sqft_living15     int64\n",
       "sqft_lot15        int64\n",
       "price_gt_1M       int64\n",
       "dtype: object"
      ]
     },
     "execution_count": 190,
     "metadata": {},
     "output_type": "execute_result"
    }
   ],
   "source": [
    "#Use categorical() function to change 3 columns to categorical, the rest are numeric\n",
    "housing_df['waterfront'] = housing_df.waterfront.astype('object')\n",
    "housing_df['bedrooms'] = housing_df.bedrooms.astype('object')\n",
    "housing_df['bathrooms'] = housing_df.bathrooms.astype('object')\n",
    "housing_df['floors'] = housing_df.floors.astype('object')\n",
    "housing_df['view'] = housing_df.view.astype('object')\n",
    "housing_df['condition'] = housing_df.condition.astype('object')\n",
    "housing_df['grade'] = housing_df.grade.astype('object')\n",
    "housing_df['lat'] = housing_df.lat.astype('int64')\n",
    "housing_df['long'] = housing_df.long.astype('int64')\n",
    "housing_df.dtypes"
   ]
  },
  {
   "cell_type": "code",
   "execution_count": 191,
   "id": "728b1904",
   "metadata": {},
   "outputs": [
    {
     "data": {
      "text/html": [
       "<div>\n",
       "<style scoped>\n",
       "    .dataframe tbody tr th:only-of-type {\n",
       "        vertical-align: middle;\n",
       "    }\n",
       "\n",
       "    .dataframe tbody tr th {\n",
       "        vertical-align: top;\n",
       "    }\n",
       "\n",
       "    .dataframe thead th {\n",
       "        text-align: right;\n",
       "    }\n",
       "</style>\n",
       "<table border=\"1\" class=\"dataframe\">\n",
       "  <thead>\n",
       "    <tr style=\"text-align: right;\">\n",
       "      <th></th>\n",
       "      <th>bedrooms</th>\n",
       "      <th>bathrooms</th>\n",
       "      <th>sqft_living</th>\n",
       "      <th>sqft_lot</th>\n",
       "      <th>floors</th>\n",
       "      <th>waterfront</th>\n",
       "      <th>view</th>\n",
       "      <th>condition</th>\n",
       "      <th>grade</th>\n",
       "      <th>sqft_above</th>\n",
       "      <th>sqft_basement</th>\n",
       "      <th>yr_built</th>\n",
       "      <th>yr_renovated</th>\n",
       "      <th>zipcode</th>\n",
       "      <th>lat</th>\n",
       "      <th>long</th>\n",
       "      <th>sqft_living15</th>\n",
       "      <th>sqft_lot15</th>\n",
       "      <th>price_gt_1M</th>\n",
       "    </tr>\n",
       "  </thead>\n",
       "  <tbody>\n",
       "    <tr>\n",
       "      <th>0</th>\n",
       "      <td>3</td>\n",
       "      <td>1.0</td>\n",
       "      <td>1180</td>\n",
       "      <td>5650</td>\n",
       "      <td>1.0</td>\n",
       "      <td>0</td>\n",
       "      <td>0</td>\n",
       "      <td>3</td>\n",
       "      <td>7</td>\n",
       "      <td>1180</td>\n",
       "      <td>0</td>\n",
       "      <td>1955</td>\n",
       "      <td>0</td>\n",
       "      <td>98178</td>\n",
       "      <td>47</td>\n",
       "      <td>-122</td>\n",
       "      <td>1340</td>\n",
       "      <td>5650</td>\n",
       "      <td>0</td>\n",
       "    </tr>\n",
       "    <tr>\n",
       "      <th>1</th>\n",
       "      <td>3</td>\n",
       "      <td>2.25</td>\n",
       "      <td>2570</td>\n",
       "      <td>7242</td>\n",
       "      <td>2.0</td>\n",
       "      <td>0</td>\n",
       "      <td>0</td>\n",
       "      <td>3</td>\n",
       "      <td>7</td>\n",
       "      <td>2170</td>\n",
       "      <td>400</td>\n",
       "      <td>1951</td>\n",
       "      <td>1991</td>\n",
       "      <td>98125</td>\n",
       "      <td>47</td>\n",
       "      <td>-122</td>\n",
       "      <td>1690</td>\n",
       "      <td>7639</td>\n",
       "      <td>0</td>\n",
       "    </tr>\n",
       "    <tr>\n",
       "      <th>2</th>\n",
       "      <td>2</td>\n",
       "      <td>1.0</td>\n",
       "      <td>770</td>\n",
       "      <td>10000</td>\n",
       "      <td>1.0</td>\n",
       "      <td>0</td>\n",
       "      <td>0</td>\n",
       "      <td>3</td>\n",
       "      <td>6</td>\n",
       "      <td>770</td>\n",
       "      <td>0</td>\n",
       "      <td>1933</td>\n",
       "      <td>0</td>\n",
       "      <td>98028</td>\n",
       "      <td>47</td>\n",
       "      <td>-122</td>\n",
       "      <td>2720</td>\n",
       "      <td>8062</td>\n",
       "      <td>0</td>\n",
       "    </tr>\n",
       "    <tr>\n",
       "      <th>3</th>\n",
       "      <td>4</td>\n",
       "      <td>3.0</td>\n",
       "      <td>1960</td>\n",
       "      <td>5000</td>\n",
       "      <td>1.0</td>\n",
       "      <td>0</td>\n",
       "      <td>0</td>\n",
       "      <td>5</td>\n",
       "      <td>7</td>\n",
       "      <td>1050</td>\n",
       "      <td>910</td>\n",
       "      <td>1965</td>\n",
       "      <td>0</td>\n",
       "      <td>98136</td>\n",
       "      <td>47</td>\n",
       "      <td>-122</td>\n",
       "      <td>1360</td>\n",
       "      <td>5000</td>\n",
       "      <td>0</td>\n",
       "    </tr>\n",
       "    <tr>\n",
       "      <th>4</th>\n",
       "      <td>3</td>\n",
       "      <td>2.0</td>\n",
       "      <td>1680</td>\n",
       "      <td>8080</td>\n",
       "      <td>1.0</td>\n",
       "      <td>0</td>\n",
       "      <td>0</td>\n",
       "      <td>3</td>\n",
       "      <td>8</td>\n",
       "      <td>1680</td>\n",
       "      <td>0</td>\n",
       "      <td>1987</td>\n",
       "      <td>0</td>\n",
       "      <td>98074</td>\n",
       "      <td>47</td>\n",
       "      <td>-122</td>\n",
       "      <td>1800</td>\n",
       "      <td>7503</td>\n",
       "      <td>0</td>\n",
       "    </tr>\n",
       "    <tr>\n",
       "      <th>...</th>\n",
       "      <td>...</td>\n",
       "      <td>...</td>\n",
       "      <td>...</td>\n",
       "      <td>...</td>\n",
       "      <td>...</td>\n",
       "      <td>...</td>\n",
       "      <td>...</td>\n",
       "      <td>...</td>\n",
       "      <td>...</td>\n",
       "      <td>...</td>\n",
       "      <td>...</td>\n",
       "      <td>...</td>\n",
       "      <td>...</td>\n",
       "      <td>...</td>\n",
       "      <td>...</td>\n",
       "      <td>...</td>\n",
       "      <td>...</td>\n",
       "      <td>...</td>\n",
       "      <td>...</td>\n",
       "    </tr>\n",
       "    <tr>\n",
       "      <th>21608</th>\n",
       "      <td>3</td>\n",
       "      <td>2.5</td>\n",
       "      <td>1530</td>\n",
       "      <td>1131</td>\n",
       "      <td>3.0</td>\n",
       "      <td>0</td>\n",
       "      <td>0</td>\n",
       "      <td>3</td>\n",
       "      <td>8</td>\n",
       "      <td>1530</td>\n",
       "      <td>0</td>\n",
       "      <td>2009</td>\n",
       "      <td>0</td>\n",
       "      <td>98103</td>\n",
       "      <td>47</td>\n",
       "      <td>-122</td>\n",
       "      <td>1530</td>\n",
       "      <td>1509</td>\n",
       "      <td>0</td>\n",
       "    </tr>\n",
       "    <tr>\n",
       "      <th>21609</th>\n",
       "      <td>4</td>\n",
       "      <td>2.5</td>\n",
       "      <td>2310</td>\n",
       "      <td>5813</td>\n",
       "      <td>2.0</td>\n",
       "      <td>0</td>\n",
       "      <td>0</td>\n",
       "      <td>3</td>\n",
       "      <td>8</td>\n",
       "      <td>2310</td>\n",
       "      <td>0</td>\n",
       "      <td>2014</td>\n",
       "      <td>0</td>\n",
       "      <td>98146</td>\n",
       "      <td>47</td>\n",
       "      <td>-122</td>\n",
       "      <td>1830</td>\n",
       "      <td>7200</td>\n",
       "      <td>0</td>\n",
       "    </tr>\n",
       "    <tr>\n",
       "      <th>21610</th>\n",
       "      <td>2</td>\n",
       "      <td>0.75</td>\n",
       "      <td>1020</td>\n",
       "      <td>1350</td>\n",
       "      <td>2.0</td>\n",
       "      <td>0</td>\n",
       "      <td>0</td>\n",
       "      <td>3</td>\n",
       "      <td>7</td>\n",
       "      <td>1020</td>\n",
       "      <td>0</td>\n",
       "      <td>2009</td>\n",
       "      <td>0</td>\n",
       "      <td>98144</td>\n",
       "      <td>47</td>\n",
       "      <td>-122</td>\n",
       "      <td>1020</td>\n",
       "      <td>2007</td>\n",
       "      <td>0</td>\n",
       "    </tr>\n",
       "    <tr>\n",
       "      <th>21611</th>\n",
       "      <td>3</td>\n",
       "      <td>2.5</td>\n",
       "      <td>1600</td>\n",
       "      <td>2388</td>\n",
       "      <td>2.0</td>\n",
       "      <td>0</td>\n",
       "      <td>0</td>\n",
       "      <td>3</td>\n",
       "      <td>8</td>\n",
       "      <td>1600</td>\n",
       "      <td>0</td>\n",
       "      <td>2004</td>\n",
       "      <td>0</td>\n",
       "      <td>98027</td>\n",
       "      <td>47</td>\n",
       "      <td>-122</td>\n",
       "      <td>1410</td>\n",
       "      <td>1287</td>\n",
       "      <td>0</td>\n",
       "    </tr>\n",
       "    <tr>\n",
       "      <th>21612</th>\n",
       "      <td>2</td>\n",
       "      <td>0.75</td>\n",
       "      <td>1020</td>\n",
       "      <td>1076</td>\n",
       "      <td>2.0</td>\n",
       "      <td>0</td>\n",
       "      <td>0</td>\n",
       "      <td>3</td>\n",
       "      <td>7</td>\n",
       "      <td>1020</td>\n",
       "      <td>0</td>\n",
       "      <td>2008</td>\n",
       "      <td>0</td>\n",
       "      <td>98144</td>\n",
       "      <td>47</td>\n",
       "      <td>-122</td>\n",
       "      <td>1020</td>\n",
       "      <td>1357</td>\n",
       "      <td>0</td>\n",
       "    </tr>\n",
       "  </tbody>\n",
       "</table>\n",
       "<p>21613 rows × 19 columns</p>\n",
       "</div>"
      ],
      "text/plain": [
       "      bedrooms bathrooms  sqft_living  sqft_lot floors waterfront view  \\\n",
       "0            3       1.0         1180      5650    1.0          0    0   \n",
       "1            3      2.25         2570      7242    2.0          0    0   \n",
       "2            2       1.0          770     10000    1.0          0    0   \n",
       "3            4       3.0         1960      5000    1.0          0    0   \n",
       "4            3       2.0         1680      8080    1.0          0    0   \n",
       "...        ...       ...          ...       ...    ...        ...  ...   \n",
       "21608        3       2.5         1530      1131    3.0          0    0   \n",
       "21609        4       2.5         2310      5813    2.0          0    0   \n",
       "21610        2      0.75         1020      1350    2.0          0    0   \n",
       "21611        3       2.5         1600      2388    2.0          0    0   \n",
       "21612        2      0.75         1020      1076    2.0          0    0   \n",
       "\n",
       "      condition grade  sqft_above  sqft_basement  yr_built  yr_renovated  \\\n",
       "0             3     7        1180              0      1955             0   \n",
       "1             3     7        2170            400      1951          1991   \n",
       "2             3     6         770              0      1933             0   \n",
       "3             5     7        1050            910      1965             0   \n",
       "4             3     8        1680              0      1987             0   \n",
       "...         ...   ...         ...            ...       ...           ...   \n",
       "21608         3     8        1530              0      2009             0   \n",
       "21609         3     8        2310              0      2014             0   \n",
       "21610         3     7        1020              0      2009             0   \n",
       "21611         3     8        1600              0      2004             0   \n",
       "21612         3     7        1020              0      2008             0   \n",
       "\n",
       "       zipcode  lat  long  sqft_living15  sqft_lot15  price_gt_1M  \n",
       "0        98178   47  -122           1340        5650            0  \n",
       "1        98125   47  -122           1690        7639            0  \n",
       "2        98028   47  -122           2720        8062            0  \n",
       "3        98136   47  -122           1360        5000            0  \n",
       "4        98074   47  -122           1800        7503            0  \n",
       "...        ...  ...   ...            ...         ...          ...  \n",
       "21608    98103   47  -122           1530        1509            0  \n",
       "21609    98146   47  -122           1830        7200            0  \n",
       "21610    98144   47  -122           1020        2007            0  \n",
       "21611    98027   47  -122           1410        1287            0  \n",
       "21612    98144   47  -122           1020        1357            0  \n",
       "\n",
       "[21613 rows x 19 columns]"
      ]
     },
     "execution_count": 191,
     "metadata": {},
     "output_type": "execute_result"
    }
   ],
   "source": [
    "housing_df"
   ]
  },
  {
   "cell_type": "code",
   "execution_count": 192,
   "id": "5f509755",
   "metadata": {},
   "outputs": [],
   "source": [
    "X = housing_df.iloc[:, 0:18]\n",
    "y = housing_df.iloc[:, 18]"
   ]
  },
  {
   "cell_type": "code",
   "execution_count": 193,
   "id": "d6e6c0fd",
   "metadata": {},
   "outputs": [],
   "source": [
    "from sklearn.model_selection import train_test_split\n",
    "X_train, X_test, y_train, y_test = train_test_split(X, y, test_size=0.2, random_state=73)\n",
    "\n",
    "categorical_cols = X_train.select_dtypes(include=['object']).columns.tolist()\n",
    "numeric_cols = X_train.select_dtypes(include=['number']).columns.tolist()\n",
    "\n",
    "all_cols = X_train.columns.tolist()\n"
   ]
  },
  {
   "cell_type": "code",
   "execution_count": 194,
   "id": "83a403c9",
   "metadata": {},
   "outputs": [
    {
     "data": {
      "text/plain": [
       "['sqft_living',\n",
       " 'sqft_lot',\n",
       " 'sqft_above',\n",
       " 'sqft_basement',\n",
       " 'yr_built',\n",
       " 'yr_renovated',\n",
       " 'zipcode',\n",
       " 'lat',\n",
       " 'long',\n",
       " 'sqft_living15',\n",
       " 'sqft_lot15']"
      ]
     },
     "execution_count": 194,
     "metadata": {},
     "output_type": "execute_result"
    }
   ],
   "source": [
    "numeric_cols"
   ]
  },
  {
   "cell_type": "code",
   "execution_count": 195,
   "id": "f71a965f",
   "metadata": {},
   "outputs": [
    {
     "data": {
      "text/plain": [
       "['bedrooms', 'bathrooms', 'floors', 'waterfront', 'view', 'condition', 'grade']"
      ]
     },
     "execution_count": 195,
     "metadata": {},
     "output_type": "execute_result"
    }
   ],
   "source": [
    "categorical_cols"
   ]
  },
  {
   "cell_type": "markdown",
   "id": "43133ce6",
   "metadata": {},
   "source": [
    "### Pipeline "
   ]
  },
  {
   "cell_type": "code",
   "execution_count": 196,
   "id": "2594e187",
   "metadata": {},
   "outputs": [],
   "source": [
    "from sklearn.compose import ColumnTransformer\n",
    "from sklearn.pipeline import Pipeline, make_pipeline\n",
    "from sklearn.preprocessing import StandardScaler, OneHotEncoder\n",
    "from sklearn.linear_model import LogisticRegression, LogisticRegressionCV"
   ]
  },
  {
   "cell_type": "code",
   "execution_count": 197,
   "id": "1bc01c02",
   "metadata": {},
   "outputs": [
    {
     "data": {
      "text/html": [
       "<style>#sk-b669563a-ab99-41ed-98b7-090a7fdb07d0 {color: black;background-color: white;}#sk-b669563a-ab99-41ed-98b7-090a7fdb07d0 pre{padding: 0;}#sk-b669563a-ab99-41ed-98b7-090a7fdb07d0 div.sk-toggleable {background-color: white;}#sk-b669563a-ab99-41ed-98b7-090a7fdb07d0 label.sk-toggleable__label {cursor: pointer;display: block;width: 100%;margin-bottom: 0;padding: 0.2em 0.3em;box-sizing: border-box;text-align: center;}#sk-b669563a-ab99-41ed-98b7-090a7fdb07d0 div.sk-toggleable__content {max-height: 0;max-width: 0;overflow: hidden;text-align: left;background-color: #f0f8ff;}#sk-b669563a-ab99-41ed-98b7-090a7fdb07d0 div.sk-toggleable__content pre {margin: 0.2em;color: black;border-radius: 0.25em;background-color: #f0f8ff;}#sk-b669563a-ab99-41ed-98b7-090a7fdb07d0 input.sk-toggleable__control:checked~div.sk-toggleable__content {max-height: 200px;max-width: 100%;overflow: auto;}#sk-b669563a-ab99-41ed-98b7-090a7fdb07d0 div.sk-estimator input.sk-toggleable__control:checked~label.sk-toggleable__label {background-color: #d4ebff;}#sk-b669563a-ab99-41ed-98b7-090a7fdb07d0 div.sk-label input.sk-toggleable__control:checked~label.sk-toggleable__label {background-color: #d4ebff;}#sk-b669563a-ab99-41ed-98b7-090a7fdb07d0 input.sk-hidden--visually {border: 0;clip: rect(1px 1px 1px 1px);clip: rect(1px, 1px, 1px, 1px);height: 1px;margin: -1px;overflow: hidden;padding: 0;position: absolute;width: 1px;}#sk-b669563a-ab99-41ed-98b7-090a7fdb07d0 div.sk-estimator {font-family: monospace;background-color: #f0f8ff;margin: 0.25em 0.25em;border: 1px dotted black;border-radius: 0.25em;box-sizing: border-box;}#sk-b669563a-ab99-41ed-98b7-090a7fdb07d0 div.sk-estimator:hover {background-color: #d4ebff;}#sk-b669563a-ab99-41ed-98b7-090a7fdb07d0 div.sk-parallel-item::after {content: \"\";width: 100%;border-bottom: 1px solid gray;flex-grow: 1;}#sk-b669563a-ab99-41ed-98b7-090a7fdb07d0 div.sk-label:hover label.sk-toggleable__label {background-color: #d4ebff;}#sk-b669563a-ab99-41ed-98b7-090a7fdb07d0 div.sk-serial::before {content: \"\";position: absolute;border-left: 1px solid gray;box-sizing: border-box;top: 2em;bottom: 0;left: 50%;}#sk-b669563a-ab99-41ed-98b7-090a7fdb07d0 div.sk-serial {display: flex;flex-direction: column;align-items: center;background-color: white;}#sk-b669563a-ab99-41ed-98b7-090a7fdb07d0 div.sk-item {z-index: 1;}#sk-b669563a-ab99-41ed-98b7-090a7fdb07d0 div.sk-parallel {display: flex;align-items: stretch;justify-content: center;background-color: white;}#sk-b669563a-ab99-41ed-98b7-090a7fdb07d0 div.sk-parallel-item {display: flex;flex-direction: column;position: relative;background-color: white;}#sk-b669563a-ab99-41ed-98b7-090a7fdb07d0 div.sk-parallel-item:first-child::after {align-self: flex-end;width: 50%;}#sk-b669563a-ab99-41ed-98b7-090a7fdb07d0 div.sk-parallel-item:last-child::after {align-self: flex-start;width: 50%;}#sk-b669563a-ab99-41ed-98b7-090a7fdb07d0 div.sk-parallel-item:only-child::after {width: 0;}#sk-b669563a-ab99-41ed-98b7-090a7fdb07d0 div.sk-dashed-wrapped {border: 1px dashed gray;margin: 0.2em;box-sizing: border-box;padding-bottom: 0.1em;background-color: white;position: relative;}#sk-b669563a-ab99-41ed-98b7-090a7fdb07d0 div.sk-label label {font-family: monospace;font-weight: bold;background-color: white;display: inline-block;line-height: 1.2em;}#sk-b669563a-ab99-41ed-98b7-090a7fdb07d0 div.sk-label-container {position: relative;z-index: 2;text-align: center;}#sk-b669563a-ab99-41ed-98b7-090a7fdb07d0 div.sk-container {display: inline-block;position: relative;}</style><div id=\"sk-b669563a-ab99-41ed-98b7-090a7fdb07d0\" class\"sk-top-container\"><div class=\"sk-container\"><div class=\"sk-item sk-dashed-wrapped\"><div class=\"sk-label-container\"><div class=\"sk-label sk-toggleable\"><input class=\"sk-toggleable__control sk-hidden--visually\" id=\"8f8e88a0-c155-4cb8-b74b-4ecbf9972d5a\" type=\"checkbox\" ><label class=\"sk-toggleable__label\" for=\"8f8e88a0-c155-4cb8-b74b-4ecbf9972d5a\">Pipeline</label><div class=\"sk-toggleable__content\"><pre>Pipeline(steps=[('preprocessor',\n",
       "                 ColumnTransformer(transformers=[('num', StandardScaler(),\n",
       "                                                  ['sqft_living', 'sqft_lot',\n",
       "                                                   'sqft_above',\n",
       "                                                   'sqft_basement', 'yr_built',\n",
       "                                                   'yr_renovated', 'zipcode',\n",
       "                                                   'lat', 'long',\n",
       "                                                   'sqft_living15',\n",
       "                                                   'sqft_lot15']),\n",
       "                                                 ('cat',\n",
       "                                                  OneHotEncoder(handle_unknown='ignore'),\n",
       "                                                  ['bedrooms', 'bathrooms',\n",
       "                                                   'floors', 'waterfront',\n",
       "                                                   'view', 'condition',\n",
       "                                                   'grade'])])),\n",
       "                ('classifier',\n",
       "                 LogisticRegression(C=1, max_iter=2000, solver='saga'))])</pre></div></div></div><div class=\"sk-serial\"><div class=\"sk-item sk-dashed-wrapped\"><div class=\"sk-label-container\"><div class=\"sk-label sk-toggleable\"><input class=\"sk-toggleable__control sk-hidden--visually\" id=\"a208d811-64c4-4754-aced-9af1c6755b67\" type=\"checkbox\" ><label class=\"sk-toggleable__label\" for=\"a208d811-64c4-4754-aced-9af1c6755b67\">preprocessor: ColumnTransformer</label><div class=\"sk-toggleable__content\"><pre>ColumnTransformer(transformers=[('num', StandardScaler(),\n",
       "                                 ['sqft_living', 'sqft_lot', 'sqft_above',\n",
       "                                  'sqft_basement', 'yr_built', 'yr_renovated',\n",
       "                                  'zipcode', 'lat', 'long', 'sqft_living15',\n",
       "                                  'sqft_lot15']),\n",
       "                                ('cat', OneHotEncoder(handle_unknown='ignore'),\n",
       "                                 ['bedrooms', 'bathrooms', 'floors',\n",
       "                                  'waterfront', 'view', 'condition',\n",
       "                                  'grade'])])</pre></div></div></div><div class=\"sk-parallel\"><div class=\"sk-parallel-item\"><div class=\"sk-item\"><div class=\"sk-label-container\"><div class=\"sk-label sk-toggleable\"><input class=\"sk-toggleable__control sk-hidden--visually\" id=\"7b535b47-ede3-49cf-a607-666005ebb4cf\" type=\"checkbox\" ><label class=\"sk-toggleable__label\" for=\"7b535b47-ede3-49cf-a607-666005ebb4cf\">num</label><div class=\"sk-toggleable__content\"><pre>['sqft_living', 'sqft_lot', 'sqft_above', 'sqft_basement', 'yr_built', 'yr_renovated', 'zipcode', 'lat', 'long', 'sqft_living15', 'sqft_lot15']</pre></div></div></div><div class=\"sk-serial\"><div class=\"sk-item\"><div class=\"sk-estimator sk-toggleable\"><input class=\"sk-toggleable__control sk-hidden--visually\" id=\"7dd97a5b-5780-45c3-b0fa-f76292207519\" type=\"checkbox\" ><label class=\"sk-toggleable__label\" for=\"7dd97a5b-5780-45c3-b0fa-f76292207519\">StandardScaler</label><div class=\"sk-toggleable__content\"><pre>StandardScaler()</pre></div></div></div></div></div></div><div class=\"sk-parallel-item\"><div class=\"sk-item\"><div class=\"sk-label-container\"><div class=\"sk-label sk-toggleable\"><input class=\"sk-toggleable__control sk-hidden--visually\" id=\"7394c3ec-2dff-44fd-be18-28fc680bca76\" type=\"checkbox\" ><label class=\"sk-toggleable__label\" for=\"7394c3ec-2dff-44fd-be18-28fc680bca76\">cat</label><div class=\"sk-toggleable__content\"><pre>['bedrooms', 'bathrooms', 'floors', 'waterfront', 'view', 'condition', 'grade']</pre></div></div></div><div class=\"sk-serial\"><div class=\"sk-item\"><div class=\"sk-estimator sk-toggleable\"><input class=\"sk-toggleable__control sk-hidden--visually\" id=\"f96dd61b-3ef8-449a-b63b-d93308549b5b\" type=\"checkbox\" ><label class=\"sk-toggleable__label\" for=\"f96dd61b-3ef8-449a-b63b-d93308549b5b\">OneHotEncoder</label><div class=\"sk-toggleable__content\"><pre>OneHotEncoder(handle_unknown='ignore')</pre></div></div></div></div></div></div></div></div><div class=\"sk-item\"><div class=\"sk-estimator sk-toggleable\"><input class=\"sk-toggleable__control sk-hidden--visually\" id=\"572cce3d-b9f9-4600-bc4b-e165af99a7a9\" type=\"checkbox\" ><label class=\"sk-toggleable__label\" for=\"572cce3d-b9f9-4600-bc4b-e165af99a7a9\">LogisticRegression</label><div class=\"sk-toggleable__content\"><pre>LogisticRegression(C=1, max_iter=2000, solver='saga')</pre></div></div></div></div></div></div></div>"
      ],
      "text/plain": [
       "Pipeline(steps=[('preprocessor',\n",
       "                 ColumnTransformer(transformers=[('num', StandardScaler(),\n",
       "                                                  ['sqft_living', 'sqft_lot',\n",
       "                                                   'sqft_above',\n",
       "                                                   'sqft_basement', 'yr_built',\n",
       "                                                   'yr_renovated', 'zipcode',\n",
       "                                                   'lat', 'long',\n",
       "                                                   'sqft_living15',\n",
       "                                                   'sqft_lot15']),\n",
       "                                                 ('cat',\n",
       "                                                  OneHotEncoder(handle_unknown='ignore'),\n",
       "                                                  ['bedrooms', 'bathrooms',\n",
       "                                                   'floors', 'waterfront',\n",
       "                                                   'view', 'condition',\n",
       "                                                   'grade'])])),\n",
       "                ('classifier',\n",
       "                 LogisticRegression(C=1, max_iter=2000, solver='saga'))])"
      ]
     },
     "execution_count": 197,
     "metadata": {},
     "output_type": "execute_result"
    }
   ],
   "source": [
    "# Create transformer objects\n",
    "numeric_transformer = StandardScaler()\n",
    "categorical_transformer = OneHotEncoder(handle_unknown='ignore')\n",
    "\n",
    "# Combine transformers into a preprocessor step\n",
    "preprocessor = ColumnTransformer(\n",
    "    transformers=[\n",
    "        ('num', numeric_transformer, numeric_cols),\n",
    "        ('cat', categorical_transformer, categorical_cols)])\n",
    "\n",
    "# Classifier model\n",
    "clf_model = LogisticRegression(penalty='l2', C=1, solver='saga', max_iter=2000)\n",
    "\n",
    "# Append classifier to preprocessing pipeline.\n",
    "# Now we have a full prediction pipeline.\n",
    "clf = Pipeline(steps=[('preprocessor', preprocessor),\n",
    "                      ('classifier', clf_model)])\n",
    "\n",
    "from sklearn import set_config\n",
    "\n",
    "set_config(display='diagram')\n",
    "clf\n"
   ]
  },
  {
   "cell_type": "code",
   "execution_count": 198,
   "id": "e7862a1f",
   "metadata": {},
   "outputs": [
    {
     "name": "stdout",
     "output_type": "stream",
     "text": [
      "Training score: 0.960\n",
      "Test score: 0.955\n"
     ]
    }
   ],
   "source": [
    "X_train, X_test, y_train, y_test = train_test_split(X, y, test_size=0.2, random_state=73)\n",
    "\n",
    "clf.fit(X_train, y_train)\n",
    "\n",
    "print(f\"Training score: {clf.score(X_train, y_train):.3f}\")\n",
    "print(f\"Test score: {clf.score(X_test, y_test):.3f}\") "
   ]
  },
  {
   "cell_type": "markdown",
   "id": "d13a5d33",
   "metadata": {},
   "source": [
    "### Null Model"
   ]
  },
  {
   "cell_type": "code",
   "execution_count": 199,
   "id": "d98c5052",
   "metadata": {},
   "outputs": [
    {
     "name": "stdout",
     "output_type": "stream",
     "text": [
      "93%\n"
     ]
    }
   ],
   "source": [
    "count = (housing_df['price_gt_1M'] == 0).sum()\n",
    "accuracy=(count/len(housing_df['price_gt_1M']))\n",
    "percentage = \"{:.0%}\".format(accuracy)\n",
    "print(percentage)"
   ]
  },
  {
   "cell_type": "markdown",
   "id": "c194ad92",
   "metadata": {},
   "source": [
    "### Model 1: Ridge regression with C=1.0"
   ]
  },
  {
   "cell_type": "code",
   "execution_count": 200,
   "id": "fec192ab",
   "metadata": {},
   "outputs": [
    {
     "name": "stdout",
     "output_type": "stream",
     "text": [
      "Training score: 0.960\n",
      "Test score: 0.955\n"
     ]
    }
   ],
   "source": [
    "# Classifier model\n",
    "clf_model_C1 = LogisticRegression(penalty='l2', C=1.0, solver='saga', max_iter=2000)\n",
    "\n",
    "# Append classifier to preprocessing pipeline.\n",
    "clf_C1 = Pipeline(steps=[('preprocessor', preprocessor),\n",
    "                      ('classifier', clf_model_C1)])\n",
    "\n",
    "# Fit model on training data \n",
    "clf_C1.fit(X_train, y_train)\n",
    "\n",
    "print(f\"Training score: {clf_C1.score(X_train, y_train):.3f}\")\n",
    "print(f\"Test score: {clf_C1.score(X_test, y_test):.3f}\")"
   ]
  },
  {
   "cell_type": "code",
   "execution_count": 201,
   "id": "bdbbe760",
   "metadata": {},
   "outputs": [
    {
     "name": "stdout",
     "output_type": "stream",
     "text": [
      "Confusion matrix for train, without normalization\n",
      "[[15935   192]\n",
      " [  503   660]]\n",
      "Normalized confusion matrix for train\n",
      "[[0.9880945  0.0119055 ]\n",
      " [0.43250215 0.56749785]]\n"
     ]
    },
    {
     "data": {
      "image/png": "[encoded data removed]",
      "text/plain": [
       "<Figure size 432x288 with 2 Axes>"
      ]
     },
     "metadata": {
      "needs_background": "light"
     },
     "output_type": "display_data"
    },
    {
     "data": {
      "image/png": "[encoded data removed]",
      "text/plain": [
       "<Figure size 432x288 with 2 Axes>"
      ]
     },
     "metadata": {
      "needs_background": "light"
     },
     "output_type": "display_data"
    }
   ],
   "source": [
    "from sklearn.metrics import confusion_matrix\n",
    "from sklearn.metrics import plot_confusion_matrix\n",
    "import matplotlib.pyplot as plt\n",
    "\n",
    "#Create confusion matrices for training \n",
    "#Create a plot of the coefficients\n",
    "titles_options = [(\"Confusion matrix for train, without normalization\", None),\n",
    "                  (\"Normalized confusion matrix for train\", 'true')]\n",
    "\n",
    "class_names = clf_C1['classifier'].classes_\n",
    "\n",
    "for title, normalize in titles_options:\n",
    "    disp = plot_confusion_matrix(clf_C1, X_train, y_train,\n",
    "                                 display_labels=class_names,\n",
    "                                 cmap=plt.cm.Blues,\n",
    "                                 normalize=normalize)\n",
    "    disp.ax_.set_title(title)\n",
    "\n",
    "    print(title)\n",
    "    print(disp.confusion_matrix)\n",
    "\n",
    "plt.show()\n",
    "\n"
   ]
  },
  {
   "cell_type": "code",
   "execution_count": 202,
   "id": "63024eb3",
   "metadata": {},
   "outputs": [
    {
     "name": "stdout",
     "output_type": "stream",
     "text": [
      "Confusion matrix for test, without normalization\n",
      "[[3944   50]\n",
      " [ 143  186]]\n",
      "Normalized confusion matrix for test\n",
      "[[0.98748122 0.01251878]\n",
      " [0.43465046 0.56534954]]\n"
     ]
    },
    {
     "data": {
      "image/png": "[encoded data removed]",
      "text/plain": [
       "<Figure size 432x288 with 2 Axes>"
      ]
     },
     "metadata": {
      "needs_background": "light"
     },
     "output_type": "display_data"
    },
    {
     "data": {
      "image/png": "[encoded data removed]",
      "text/plain": [
       "<Figure size 432x288 with 2 Axes>"
      ]
     },
     "metadata": {
      "needs_background": "light"
     },
     "output_type": "display_data"
    }
   ],
   "source": [
    "titles_options = [(\"Confusion matrix for test, without normalization\", None),\n",
    "                  (\"Normalized confusion matrix for test\", 'true')]\n",
    "\n",
    "class_names = clf_C1['classifier'].classes_\n",
    "\n",
    "for title, normalize in titles_options:\n",
    "    disp = plot_confusion_matrix(clf_C1, X_test, y_test,\n",
    "                                 display_labels=class_names,\n",
    "                                 cmap=plt.cm.Blues,\n",
    "                                 normalize=normalize)\n",
    "    disp.ax_.set_title(title)\n",
    "\n",
    "    print(title)\n",
    "    print(disp.confusion_matrix)\n",
    "\n",
    "plt.show()"
   ]
  },
  {
   "cell_type": "markdown",
   "id": "e60b952b",
   "metadata": {},
   "source": [
    "### Model 2: Lasso regression with C=1.0"
   ]
  },
  {
   "cell_type": "code",
   "execution_count": 203,
   "id": "00cbb29f",
   "metadata": {},
   "outputs": [
    {
     "name": "stdout",
     "output_type": "stream",
     "text": [
      "Training score: 0.960\n",
      "Test score: 0.956\n"
     ]
    }
   ],
   "source": [
    "# Classifier model\n",
    "clf_model_l1_C1 = LogisticRegression(penalty='l1', C=1.0, solver='saga', max_iter=2000)\n",
    "\n",
    "# Append classifier to preprocessing pipeline.\n",
    "clf_l1_C1 = Pipeline(steps=[('preprocessor', preprocessor),\n",
    "                      ('classifier', clf_model_l1_C1)])\n",
    "\n",
    "# Fit model on training data \n",
    "clf_l1_C1.fit(X_train, y_train)\n",
    "\n",
    "print(f\"Training score: {clf_l1_C1.score(X_train, y_train):.3f}\")\n",
    "print(f\"Test score: {clf_l1_C1.score(X_test, y_test):.3f}\")"
   ]
  },
  {
   "cell_type": "code",
   "execution_count": 204,
   "id": "aa5b92fd",
   "metadata": {},
   "outputs": [
    {
     "name": "stdout",
     "output_type": "stream",
     "text": [
      "Confusion matrix for train, without normalization\n",
      "[[15936   191]\n",
      " [  508   655]]\n",
      "Normalized confusion matrix for train\n",
      "[[0.98815651 0.01184349]\n",
      " [0.43680138 0.56319862]]\n"
     ]
    },
    {
     "data": {
      "image/png": "[encoded data removed]",
      "text/plain": [
       "<Figure size 432x288 with 2 Axes>"
      ]
     },
     "metadata": {
      "needs_background": "light"
     },
     "output_type": "display_data"
    },
    {
     "data": {
      "image/png": "[encoded data removed]",
      "text/plain": [
       "<Figure size 432x288 with 2 Axes>"
      ]
     },
     "metadata": {
      "needs_background": "light"
     },
     "output_type": "display_data"
    }
   ],
   "source": [
    "#Create confusion matrices for training \n",
    "#Create a plot of the coefficients\n",
    "titles_options = [(\"Confusion matrix for train, without normalization\", None),\n",
    "                  (\"Normalized confusion matrix for train\", 'true')]\n",
    "\n",
    "class_names =clf_l1_C1['classifier'].classes_\n",
    "\n",
    "for title, normalize in titles_options:\n",
    "    disp = plot_confusion_matrix(clf_l1_C1, X_train, y_train,\n",
    "                                 display_labels=class_names,\n",
    "                                 cmap=plt.cm.Blues,\n",
    "                                 normalize=normalize)\n",
    "    disp.ax_.set_title(title)\n",
    "\n",
    "    print(title)\n",
    "    print(disp.confusion_matrix)\n",
    "\n",
    "plt.show()"
   ]
  },
  {
   "cell_type": "code",
   "execution_count": 205,
   "id": "e754a156",
   "metadata": {},
   "outputs": [
    {
     "name": "stdout",
     "output_type": "stream",
     "text": [
      "Confusion matrix for test, without normalization\n",
      "[[3947   47]\n",
      " [ 144  185]]\n",
      "Normalized confusion matrix for test\n",
      "[[0.98823235 0.01176765]\n",
      " [0.43768997 0.56231003]]\n"
     ]
    },
    {
     "data": {
      "image/png": "[encoded data removed]",
      "text/plain": [
       "<Figure size 432x288 with 2 Axes>"
      ]
     },
     "metadata": {
      "needs_background": "light"
     },
     "output_type": "display_data"
    },
    {
     "data": {
      "image/png": "[encoded data removed]",
      "text/plain": [
       "<Figure size 432x288 with 2 Axes>"
      ]
     },
     "metadata": {
      "needs_background": "light"
     },
     "output_type": "display_data"
    }
   ],
   "source": [
    "titles_options = [(\"Confusion matrix for test, without normalization\", None),\n",
    "                  (\"Normalized confusion matrix for test\", 'true')]\n",
    "\n",
    "class_names =clf_l1_C1['classifier'].classes_\n",
    "\n",
    "for title, normalize in titles_options:\n",
    "    disp = plot_confusion_matrix(clf_l1_C1, X_test, y_test,\n",
    "                                 display_labels=class_names,\n",
    "                                 cmap=plt.cm.Blues,\n",
    "                                 normalize=normalize)\n",
    "    disp.ax_.set_title(title)\n",
    "\n",
    "    print(title)\n",
    "    print(disp.confusion_matrix)\n",
    "\n",
    "plt.show()"
   ]
  },
  {
   "cell_type": "markdown",
   "id": "0a7f65bb",
   "metadata": {},
   "source": [
    "# Compare the performance to the ridge regression model."
   ]
  },
  {
   "cell_type": "markdown",
   "id": "cc498766",
   "metadata": {},
   "source": [
    "## Model 3: Lasso regression with C=0.01\n",
    "Fit another lasso regression but use C=0.01. Does this enforce more or less regularization? Create the same outputs and compare the performance to the first two models. Discuss why the plot looks so different than the previous plots."
   ]
  },
  {
   "cell_type": "code",
   "execution_count": 206,
   "id": "d95762e2",
   "metadata": {},
   "outputs": [
    {
     "name": "stdout",
     "output_type": "stream",
     "text": [
      "Training score: 0.953\n",
      "Test score: 0.947\n"
     ]
    },
    {
     "name": "stderr",
     "output_type": "stream",
     "text": [
      "C:\\Users\\watte\\anaconda3\\lib\\site-packages\\sklearn\\linear_model\\_sag.py:328: ConvergenceWarning: The max_iter was reached which means the coef_ did not converge\n",
      "  warnings.warn(\"The max_iter was reached which means \"\n"
     ]
    }
   ],
   "source": [
    "clf_model_l1_C01 = LogisticRegression(penalty='l1', C=0.01, solver='saga', max_iter=2000)\n",
    "\n",
    "# Append classifier to preprocessing pipeline.\n",
    "clf_l1_C001 = Pipeline(steps=[('preprocessor', preprocessor),\n",
    "                      ('classifier', clf_model_l1_C01)])\n",
    "\n",
    "# Fit model on training data \n",
    "clf_l1_C001.fit(X_train, y_train)\n",
    "\n",
    "print(f\"Training score: {clf_l1_C001.score(X_train, y_train):.3f}\")\n",
    "print(f\"Test score: {clf_l1_C001.score(X_test, y_test):.3f}\")"
   ]
  },
  {
   "cell_type": "code",
   "execution_count": 207,
   "id": "e36b4ddd",
   "metadata": {},
   "outputs": [
    {
     "name": "stdout",
     "output_type": "stream",
     "text": [
      "Confusion matrix for train, without normalization\n",
      "[[16002   125]\n",
      " [  692   471]]\n",
      "Normalized confusion matrix for train\n",
      "[[0.99224902 0.00775098]\n",
      " [0.5950129  0.4049871 ]]\n"
     ]
    },
    {
     "data": {
      "image/png": "[encoded data removed]",
      "text/plain": [
       "<Figure size 432x288 with 2 Axes>"
      ]
     },
     "metadata": {
      "needs_background": "light"
     },
     "output_type": "display_data"
    },
    {
     "data": {
      "image/png": "[encoded data removed]",
      "text/plain": [
       "<Figure size 432x288 with 2 Axes>"
      ]
     },
     "metadata": {
      "needs_background": "light"
     },
     "output_type": "display_data"
    }
   ],
   "source": [
    "#Create confusion matrices for training \n",
    "#Create a plot of the coefficients\n",
    "titles_options = [(\"Confusion matrix for train, without normalization\", None),\n",
    "                  (\"Normalized confusion matrix for train\", 'true')]\n",
    "\n",
    "class_names =clf_l1_C001['classifier'].classes_\n",
    "\n",
    "for title, normalize in titles_options:\n",
    "    disp = plot_confusion_matrix(clf_l1_C001, X_train, y_train,\n",
    "                                 display_labels=class_names,\n",
    "                                 cmap=plt.cm.Blues,\n",
    "                                 normalize=normalize)\n",
    "    disp.ax_.set_title(title)\n",
    "\n",
    "    print(title)\n",
    "    print(disp.confusion_matrix)\n",
    "\n",
    "plt.show()"
   ]
  },
  {
   "cell_type": "code",
   "execution_count": 208,
   "id": "22206295",
   "metadata": {},
   "outputs": [
    {
     "name": "stdout",
     "output_type": "stream",
     "text": [
      "Confusion matrix for test, without normalization\n",
      "[[3964   30]\n",
      " [ 197  132]]\n",
      "Normalized confusion matrix for test\n",
      "[[0.99248873 0.00751127]\n",
      " [0.59878419 0.40121581]]\n"
     ]
    },
    {
     "data": {
      "image/png": "[encoded data removed]",
      "text/plain": [
       "<Figure size 432x288 with 2 Axes>"
      ]
     },
     "metadata": {
      "needs_background": "light"
     },
     "output_type": "display_data"
    },
    {
     "data": {
      "image/png": "[encoded data removed]",
      "text/plain": [
       "<Figure size 432x288 with 2 Axes>"
      ]
     },
     "metadata": {
      "needs_background": "light"
     },
     "output_type": "display_data"
    }
   ],
   "source": [
    "titles_options = [(\"Confusion matrix for test, without normalization\", None),\n",
    "                  (\"Normalized confusion matrix for test\", 'true')]\n",
    "\n",
    "class_names =clf_l1_C001['classifier'].classes_\n",
    "\n",
    "for title, normalize in titles_options:\n",
    "    disp = plot_confusion_matrix(clf_l1_C001, X_test, y_test,\n",
    "                                 display_labels=class_names,\n",
    "                                 cmap=plt.cm.Blues,\n",
    "                                 normalize=normalize)\n",
    "    disp.ax_.set_title(title)\n",
    "\n",
    "    print(title)\n",
    "    print(disp.confusion_matrix)\n",
    "\n",
    "plt.show()"
   ]
  },
  {
   "cell_type": "markdown",
   "id": "7eef4dcb",
   "metadata": {},
   "source": [
    "## Model 4: Lasso regression with optimal C value\n",
    "Now use LogisticRegressionCV to fit a model and let sklearn determine the optimal C value to use. Again, compute score and confusion matrices. Also, print out the optimal value of C. Does regularization help for this problem?"
   ]
  },
  {
   "cell_type": "markdown",
   "id": "c91163c5",
   "metadata": {},
   "source": [
    "## Task 5 - Random forest model\n",
    "Now fit a random forest model to predict price_gt_1M. As we did above, for both train and test, compute the accuracy score, create a confusion matrix, and discuss the performance relative to your logistic regression models. Obviously you do not need to create a coefficient plot (why not?)."
   ]
  }
 ],
 "metadata": {
  "kernelspec": {
   "display_name": "Python 3 (ipykernel)",
   "language": "python",
   "name": "python3"
  },
  "language_info": {
   "codemirror_mode": {
    "name": "ipython",
    "version": 3
   },
   "file_extension": ".py",
   "mimetype": "text/x-python",
   "name": "python",
   "nbconvert_exporter": "python",
   "pygments_lexer": "ipython3",
   "version": "3.9.7"
  }
 },
 "nbformat": 4,
 "nbformat_minor": 5
}
